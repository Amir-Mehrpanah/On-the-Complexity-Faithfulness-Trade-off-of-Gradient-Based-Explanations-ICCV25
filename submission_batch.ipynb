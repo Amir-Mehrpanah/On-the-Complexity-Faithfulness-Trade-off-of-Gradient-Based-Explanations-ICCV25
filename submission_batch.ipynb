{
 "cells": [
  {
   "cell_type": "code",
   "execution_count": null,
   "metadata": {
    "executionInfo": {
     "elapsed": 21464,
     "status": "ok",
     "timestamp": 1730379234705,
     "user": {
      "displayName": "Amir Mehrpanah",
      "userId": "17580875617919416922"
     },
     "user_tz": -60
    },
    "id": "BIZtpZ1xkJFV"
   },
   "outputs": [],
   "source": [
    "from itertools import product\n",
    "from src.utils import ActivationSwitch, LossSwitch, DatasetSwitch\n",
    "\n",
    "activations = [\n",
    "    ActivationSwitch.RELU,\n",
    "    ActivationSwitch.LEAKY_RELU,\n",
    "    ActivationSwitch.SOFTPLUS_B1,\n",
    "    ActivationSwitch.SOFTPLUS_B10,\n",
    "    # ActivationSwitch.SOFTPLUS_B100,\n",
    "    # ActivationSwitch.SOFTPLUS_B1000,\n",
    "    # ActivationSwitch.SOFTPLUS_B10000,\n",
    "    # ActivationSwitch.SOFTPLUS_B100000,\n",
    "]\n",
    "losses = [\n",
    "    LossSwitch.CE,\n",
    "    # LossSwitch.MSE\n",
    "]\n",
    "dataset = DatasetSwitch.CIFAR10\n",
    "\n",
    "bias = \"--nobias\"\n",
    "port = \"\"  # \"--port 5678\"\n",
    "block_main = \"\"  # \"--block_main\"\n",
    "batch_size = 64\n",
    "lr = 1e-4\n",
    "epochs = 50\n",
    "img_size = 32\n",
    "ckpt_mod = 10  # checkpoint if epoch % ckpt_mod == 0"
   ]
  },
  {
   "cell_type": "code",
   "execution_count": 5,
   "metadata": {
    "colab": {
     "base_uri": "https://localhost:8080/"
    },
    "executionInfo": {
     "elapsed": 19,
     "status": "ok",
     "timestamp": 1730379234706,
     "user": {
      "displayName": "Amir Mehrpanah",
      "userId": "17580875617919416922"
     },
     "user_tz": -60
    },
    "id": "E2ro7aeikM27",
    "outputId": "f7771836-2365-4d63-80b5-c59362c826d0"
   },
   "outputs": [],
   "source": [
    "# !mkdir checkpoints/\n",
    "# !rm checkpoints/*\n",
    "!ls checkpoints/"
   ]
  },
  {
   "cell_type": "code",
   "execution_count": 6,
   "metadata": {
    "colab": {
     "base_uri": "https://localhost:8080/"
    },
    "executionInfo": {
     "elapsed": 917563,
     "status": "ok",
     "timestamp": 1730378202822,
     "user": {
      "displayName": "Amir Mehrpanah",
      "userId": "17580875617919416922"
     },
     "user_tz": -60
    },
    "id": "j-_Y0g22aDD4",
    "outputId": "5ed3cdc1-16de-4b37-85bc-b29d0d749162"
   },
   "outputs": [
    {
     "name": "stdout",
     "output_type": "stream",
     "text": [
      "submitting jobs\n",
      "Job submitted\n",
      "submitting jobs\n",
      "Job submitted\n",
      "submitting jobs\n",
      "Job submitted\n",
      "submitting jobs\n",
      "Job submitted\n"
     ]
    }
   ],
   "source": [
    "for activation, loss in product(activations,losses):\n",
    "    !python submission/training.py {block_main} {port} --dataset {dataset} --ckpt_mod {ckpt_mod} {bias} --activation {activation} --loss {loss} --lr {lr} --epochs {epochs} --batch_size {batch_size}"
   ]
  },
  {
   "cell_type": "code",
   "execution_count": null,
   "metadata": {},
   "outputs": [],
   "source": [
    "# !rm checkpoints/*\n",
    "# !rm -r logs/.su*\n",
    "# !rm -r logs/*"
   ]
  }
 ],
 "metadata": {
  "colab": {
   "provenance": [
    {
     "file_id": "/v2/external/notebooks/intro.ipynb",
     "timestamp": 1729866518847
    }
   ]
  },
  "kernelspec": {
   "display_name": "Python 3",
   "name": "python3"
  },
  "language_info": {
   "codemirror_mode": {
    "name": "ipython",
    "version": 3
   },
   "file_extension": ".py",
   "mimetype": "text/x-python",
   "name": "python",
   "nbconvert_exporter": "python",
   "pygments_lexer": "ipython3",
   "version": "3.13.0"
  }
 },
 "nbformat": 4,
 "nbformat_minor": 0
}
